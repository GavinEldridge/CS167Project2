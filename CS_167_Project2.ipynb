{
  "nbformat": 4,
  "nbformat_minor": 0,
  "metadata": {
    "colab": {
      "provenance": [],
      "include_colab_link": true
    },
    "kernelspec": {
      "name": "python3",
      "display_name": "Python 3"
    },
    "language_info": {
      "name": "python"
    },
    "gpuClass": "standard"
  },
  "cells": [
    {
      "cell_type": "markdown",
      "metadata": {
        "id": "view-in-github",
        "colab_type": "text"
      },
      "source": [
        "<a href=\"https://colab.research.google.com/github/DrakeCS167Fall22/cs167fall22project2-GavinEldridge/blob/main/Copy_of_Project2.ipynb\" target=\"_parent\"><img src=\"https://colab.research.google.com/assets/colab-badge.svg\" alt=\"Open In Colab\"/></a>"
      ]
    },
    {
      "cell_type": "markdown",
      "source": [
        "# Project #2\n",
        "##Name: Gavin Eldridge\n",
        "\n",
        "Proposed Points (out of 25): 25"
      ],
      "metadata": {
        "id": "rIepkBIuT_Pl"
      }
    },
    {
      "cell_type": "markdown",
      "source": [
        "# 1. Problem\n",
        "State the problem you are trying to solve with this machine learning experiment. Include a description of the data, where you got the data, and what you're trying to predict.."
      ],
      "metadata": {
        "id": "HbwKLNhzP8YO"
      }
    },
    {
      "cell_type": "markdown",
      "source": [
        "The data being used will be data from every player's rookie season from the 1980 season to the 2020 season including non-drafted players. The data includes averages of all recorded stats along with Team, year, age, and conference in which the player plays, along with a target variable which tells us 1 if the player has played 3 or more seasons and a 0 if not. I found this data on the website Kaggle and will be using this data to create a model that can predict if a player will play 3 or more seasons in the NBA. Hopefully this model can go on from this and be used to predict a players total longevity."
      ],
      "metadata": {
        "id": "LwseoUsMmCz2"
      }
    },
    {
      "cell_type": "markdown",
      "source": [
        "# 2. Data Preparation\n",
        "Explain your data preparation. What did you have to do to get your data in shape for your experiments? Why are you certain that you data is clean and prepared for use in your algorithms?"
      ],
      "metadata": {
        "id": "qR_foVOeQVL7"
      }
    },
    {
      "cell_type": "markdown",
      "source": [
        "The data preparation for this Dataset was very easy as the data came completely filled out with no null values. However, there was a lot of attributes that the data came with so I decided to drop a lot of columns that were either unneccessary or repetitive. For example, Team and Conference were dropped "
      ],
      "metadata": {
        "id": "aMDJDnW_mOWu"
      }
    },
    {
      "cell_type": "code",
      "source": [
        "# load and prepare your data here\n",
        "from google.colab import drive\n",
        "drive.mount('/content/drive')\n",
        "import sklearn\n",
        "import pandas as pd\n",
        "from sklearn import tree\n",
        "from sklearn.model_selection import train_test_split\n",
        "from sklearn import metrics\n",
        "from sklearn import neighbors\n",
        "import numpy as np\n",
        "\n",
        "\n",
        "# load data\n",
        "nba_data = pd.read_csv('/content/drive/MyDrive/CS167datasets/NBA_Rookies.csv')\n",
        "\n",
        "A = nba_data.copy()\n",
        "\n",
        "A.drop(columns= [A.columns[0],'Player','Team', 'Conf', 'Career', 'MP', 'PTS', 'FG', 'FGA', '3P', '3PA', 'FT', 'FTA','ORB', 'DRB', 'TRB', 'STL','BLK', 'TOV', 'PF', 'FTpg','ORBpg','DRBpg'], inplace = True)\n",
        "\n",
        "print(A.head(10))\n",
        "print(A.dtypes)\n",
        "\n",
        "\n"
      ],
      "metadata": {
        "id": "9dUdBChRmKxR",
        "colab": {
          "base_uri": "https://localhost:8080/"
        },
        "outputId": "7ed82f3e-19bb-4551-c07c-80ec831ca29c"
      },
      "execution_count": 35,
      "outputs": [
        {
          "output_type": "stream",
          "name": "stdout",
          "text": [
            "Drive already mounted at /content/drive; to attempt to forcibly remount, call drive.mount(\"/content/drive\", force_remount=True).\n",
            "   Year   Age  Games    FG%    3P%    FT%    AST   MPpg  PTSpg  FGpg  3Ppg  \\\n",
            "0  1979  22.0   67.0  0.450  0.000  0.673   28.0  10.84    4.7  1.82  0.00   \n",
            "1  1980  23.0   16.0  0.493  0.421  0.718   31.0  14.69   11.3  4.50  0.50   \n",
            "2  1979  23.0   82.0  0.474  0.406  0.836  370.0  36.04   21.3  8.45  0.71   \n",
            "3  1980  23.0   13.0  0.462  0.000  0.615    2.0   9.62    4.3  1.85  0.00   \n",
            "4  1979  22.0   82.0  0.452  0.400  0.782  252.0  24.72    8.4  3.35  0.02   \n",
            "5  1979  22.0   82.0  0.547  0.000  0.797  165.0  38.41   21.7  8.11  0.00   \n",
            "6  1979  23.0   66.0  0.469  0.000  0.806   84.0  13.70    5.5  1.95  0.00   \n",
            "7  1979  24.0   75.0  0.495  0.000  0.733   80.0  15.23    5.7  2.43  0.00   \n",
            "8  1979  28.0   24.0  0.358  0.222  0.571   12.0   6.67    2.8  1.21  0.08   \n",
            "9  1979  23.0    4.0  0.500  0.000  1.000    7.0   7.00    1.5  0.50  0.00   \n",
            "\n",
            "   TRBpg  ASTpg  STLpg  BLKpg  TOVpg  PFpg  Target  \n",
            "0    2.9    0.4   0.31   0.81   1.18  1.73       1  \n",
            "1    1.8    1.9   0.88   0.12   1.25  1.62       1  \n",
            "2   10.4    4.5   1.74   0.65   3.21  3.40       1  \n",
            "3    3.0    0.2   0.31   0.15   0.62  1.92       0  \n",
            "4    2.7    3.1   2.57   0.59   2.02  2.37       1  \n",
            "5    8.9    2.0   0.59   1.23   2.71  3.40       1  \n",
            "6    3.7    1.3   0.42   0.27   1.08  1.55       1  \n",
            "7    2.1    1.1   0.81   0.33   1.12  2.05       0  \n",
            "8    0.8    0.5   0.29   0.04   0.54  1.00       0  \n",
            "9    0.3    1.8   0.00   0.00   1.25  1.00       0  \n",
            "Year        int64\n",
            "Age       float64\n",
            "Games     float64\n",
            "FG%       float64\n",
            "3P%       float64\n",
            "FT%       float64\n",
            "AST       float64\n",
            "MPpg      float64\n",
            "PTSpg     float64\n",
            "FGpg      float64\n",
            "3Ppg      float64\n",
            "TRBpg     float64\n",
            "ASTpg     float64\n",
            "STLpg     float64\n",
            "BLKpg     float64\n",
            "TOVpg     float64\n",
            "PFpg      float64\n",
            "Target      int64\n",
            "dtype: object\n"
          ]
        }
      ]
    },
    {
      "cell_type": "markdown",
      "source": [
        "# 3. Research\n",
        "\n",
        "Put your code and your experiments here."
      ],
      "metadata": {
        "id": "Hc7HMmNPR10W"
      }
    },
    {
      "cell_type": "code",
      "source": [
        "# code goes here... don't forget to include graphs. Professor Urness loves graphs.\n",
        "\n",
        "target = 'Target'\n",
        "\n",
        "predictors = A.columns.drop(target)\n",
        "train_data, test_data, train_sln, test_sln = \\\n",
        "        train_test_split(A[predictors], A[target], test_size = 0.2, random_state=41)\n",
        "\n",
        "from sklearn.preprocessing import StandardScaler\n",
        "scaler = StandardScaler()\n",
        "scaler.fit(train_data)\n",
        "train_data_normalized = scaler.transform(train_data)\n",
        "test_data_normalized = scaler.transform(test_data)"
      ],
      "metadata": {
        "id": "XfaACsEOR4U5"
      },
      "execution_count": 36,
      "outputs": []
    },
    {
      "cell_type": "code",
      "source": [
        "from sklearn import tree\n",
        "from sklearn import metrics\n",
        "from sklearn.ensemble import RandomForestClassifier\n",
        "from sklearn.metrics import accuracy_score\n",
        "from sklearn.metrics import confusion_matrix\n",
        "import matplotlib.pyplot as plt\n",
        "\n",
        "\n",
        "ck_vals = [1,3,5,7,9,11,13,15]\n",
        "ckNN_accuracies = []\n",
        "\n",
        "for k in ck_vals:\n",
        "    neighc = neighbors.KNeighborsClassifier(n_neighbors = k) ### Don't miss this! Doing Regression here!!\n",
        "    # fit (train) the model to the data\n",
        "    neighc.fit(train_data_normalized, train_sln)\n",
        "    # use the trained model to get predictions from our test_data\n",
        "    predictionsc = neighc.predict(test_data_normalized)\n",
        "    current_accuracy = metrics.accuracy_score(test_sln ,predictionsc)\n",
        "    ckNN_accuracies.append(current_accuracy)\n",
        "    print(current_accuracy)\n",
        "\n",
        "\n",
        "plt.suptitle('Accuracy classifier KNN',fontsize=18)\n",
        "plt.xlabel('k')\n",
        "plt.ylabel('accuracy')\n",
        "plt.plot(ck_vals,ckNN_accuracies,'ro-',label='k-NN')\n",
        "plt.legend(loc='lower left', shadow=True)\n",
        "plt.axis([1,15,0,1])\n",
        "\n",
        "plt.show()"
      ],
      "metadata": {
        "colab": {
          "base_uri": "https://localhost:8080/",
          "height": 450
        },
        "id": "ORPNGrgD_kzi",
        "outputId": "0283ff77-afdc-4c95-deca-9ccb18f43817"
      },
      "execution_count": 70,
      "outputs": [
        {
          "output_type": "stream",
          "name": "stdout",
          "text": [
            "0.6836555360281195\n",
            "0.7100175746924429\n",
            "0.7311072056239016\n",
            "0.7451669595782073\n",
            "0.7328646748681898\n",
            "0.7451669595782073\n",
            "0.7381370826010545\n",
            "0.7451669595782073\n"
          ]
        },
        {
          "output_type": "display_data",
          "data": {
            "text/plain": [
              "<Figure size 432x288 with 1 Axes>"
            ],
            "image/png": "[encoded data removed]"
          },
          "metadata": {
            "needs_background": "light"
          }
        }
      ]
    },
    {
      "cell_type": "code",
      "source": [
        "cwk_vals = [9,11,13,15,17,19,21,23]\n",
        "cwkNN_accuracies = []\n",
        "\n",
        "for k in cwk_vals:\n",
        "    neighwc = neighbors.KNeighborsClassifier(n_neighbors = k, weights = 'distance') ### Don't miss this! Doing Regression here!!\n",
        "    # fit (train) the model to the data\n",
        "    neighwc.fit(train_data_normalized, train_sln)\n",
        "    # use the trained model to get predictions from our test_data\n",
        "    predictionswc = neighwc.predict(test_data_normalized)\n",
        "    current_accuracy = metrics.accuracy_score(test_sln ,predictionswc)\n",
        "    cwkNN_accuracies.append(current_accuracy)\n",
        "    print(current_accuracy)\n",
        "\n",
        "\n",
        "plt.suptitle('Accuracy carbody classifier W-KNN',fontsize=18)\n",
        "plt.xlabel('k')\n",
        "plt.ylabel('accuracy')\n",
        "plt.plot(cwk_vals,cwkNN_accuracies,'ro-',label='Wk-NN')\n",
        "plt.legend(loc='lower left', shadow=True)\n",
        "plt.axis([9,23,0.5,1])\n",
        "\n",
        "plt.show()"
      ],
      "metadata": {
        "colab": {
          "base_uri": "https://localhost:8080/",
          "height": 450
        },
        "id": "6gbPcJA2B-tV",
        "outputId": "761f8ed0-fdbc-419b-b712-ea04bfbef957"
      },
      "execution_count": 57,
      "outputs": [
        {
          "output_type": "stream",
          "name": "stdout",
          "text": [
            "0.7311072056239016\n",
            "0.7451669595782073\n",
            "0.7398945518453427\n",
            "0.7469244288224957\n",
            "0.7574692442882249\n",
            "0.7592267135325131\n",
            "0.7662565905096661\n",
            "0.7592267135325131\n"
          ]
        },
        {
          "output_type": "display_data",
          "data": {
            "text/plain": [
              "<Figure size 432x288 with 1 Axes>"
            ],
            "image/png": "[encoded data removed]"
          },
          "metadata": {
            "needs_background": "light"
          }
        }
      ]
    },
    {
      "cell_type": "code",
      "source": [
        "#Random Forest\n",
        "rf_vals = [5,7,9,11,13,15]\n",
        "R_forest_accuracies = []\n",
        "for n in rf_vals:\n",
        "    forest = RandomForestClassifier(random_state = 0, n_estimators=100, min_samples_leaf= n)\n",
        "    forest.fit(train_data_normalized, train_sln)\n",
        "    predictions = forest.predict(test_data_normalized)\n",
        "    current_accuracy = metrics.accuracy_score(test_sln ,predictions)\n",
        "    R_forest_accuracies.append(current_accuracy)\n",
        "    print(current_accuracy)\n",
        "\n",
        "plt.suptitle('Accuracy classifier Random Forest',fontsize=18)\n",
        "plt.xlabel('k')\n",
        "plt.ylabel('accuracy')\n",
        "plt.plot(rf_vals,R_forest_accuracies,'ro-',label='k-NN')\n",
        "plt.legend(loc='lower left', shadow=True)\n",
        "plt.axis([5,15,0.5,1])\n",
        "\n",
        "plt.show()\n"
      ],
      "metadata": {
        "colab": {
          "base_uri": "https://localhost:8080/",
          "height": 415
        },
        "id": "dlSg2sjc1ixN",
        "outputId": "be36adf4-7d20-4464-d398-e9b35447697a"
      },
      "execution_count": 69,
      "outputs": [
        {
          "output_type": "stream",
          "name": "stdout",
          "text": [
            "0.7662565905096661\n",
            "0.7627416520210897\n",
            "0.7644991212653779\n",
            "0.7592267135325131\n",
            "0.7697715289982425\n",
            "0.7609841827768014\n"
          ]
        },
        {
          "output_type": "display_data",
          "data": {
            "text/plain": [
              "<Figure size 432x288 with 1 Axes>"
            ],
            "image/png": "[encoded data removed]"
          },
          "metadata": {
            "needs_background": "light"
          }
        }
      ]
    },
    {
      "cell_type": "code",
      "source": [
        "#SVC\n",
        "from sklearn.svm import SVC\n",
        "clf = SVC(kernel = \"linear\", decision_function_shape= 'ovo')\n",
        "clf.fit(train_data_normalized,train_sln)\n",
        "predictions = clf.predict(test_data_normalized)\n",
        "import itertools\n",
        "\n",
        "cm=metrics.confusion_matrix(test_sln,predictions)\n",
        "plt.imshow(cm, interpolation='nearest',cmap=plt.cm.Blues)\n",
        "plt.title('SVC Conf Matrix')\n",
        "plt.colorbar()\n",
        "plt.xticks([0,1], perc.classes_,rotation=45)\n",
        "plt.yticks([0,1], perc.classes_)\n",
        "thresh = cm.max() / 2.\n",
        "for i, j in itertools.product(range(cm.shape[0]), range(cm.shape[1])):\n",
        "        plt.text(j, i, format(cm[i, j], '.2f'),\n",
        "                horizontalalignment=\"center\",\n",
        "                color=\"white\" if cm[i, j] > thresh else \"black\")\n",
        "plt.ylabel('True label')\n",
        "plt.xlabel('Predicted label')\n",
        "plt.show()\n",
        "\n",
        "\n",
        "print(\"accuracy:\", metrics.accuracy_score(test_sln, predictions))\n",
        "\n",
        "clf2 = SVC()\n",
        "clf2.fit(train_data_normalized,train_sln)\n",
        "predictions2 = clf2.predict(test_data_normalized)\n",
        "print(\"accuracy:\", metrics.accuracy_score(test_sln, predictions2))\n",
        "\n",
        "cm=metrics.confusion_matrix(test_sln,predictions2)\n",
        "plt.imshow(cm, interpolation='nearest',cmap=plt.cm.Blues)\n",
        "plt.title('SVC Conf Matrix')\n",
        "plt.colorbar()\n",
        "plt.xticks([0,1], perc.classes_,rotation=45)\n",
        "plt.yticks([0,1], perc.classes_)\n",
        "thresh = cm.max() / 2.\n",
        "for i, j in itertools.product(range(cm.shape[0]), range(cm.shape[1])):\n",
        "        plt.text(j, i, format(cm[i, j], '.2f'),\n",
        "                horizontalalignment=\"center\",\n",
        "                color=\"white\" if cm[i, j] > thresh else \"black\")\n",
        "plt.ylabel('True label')\n",
        "plt.xlabel('Predicted label')\n",
        "plt.show()"
      ],
      "metadata": {
        "colab": {
          "base_uri": "https://localhost:8080/",
          "height": 613
        },
        "id": "QdQvwDAhyslF",
        "outputId": "2297558b-c417-4b11-d668-0972917b1179"
      },
      "execution_count": 65,
      "outputs": [
        {
          "output_type": "display_data",
          "data": {
            "text/plain": [
              "<Figure size 432x288 with 2 Axes>"
            ],
            "image/png": "[encoded data removed]"
          },
          "metadata": {
            "needs_background": "light"
          }
        },
        {
          "output_type": "stream",
          "name": "stdout",
          "text": [
            "accuracy: 0.7557117750439367\n",
            "accuracy: 0.7592267135325131\n"
          ]
        },
        {
          "output_type": "display_data",
          "data": {
            "text/plain": [
              "<Figure size 432x288 with 2 Axes>"
            ],
            "image/png": "[encoded data removed]"
          },
          "metadata": {
            "needs_background": "light"
          }
        }
      ]
    },
    {
      "cell_type": "code",
      "source": [
        "#perceptron\n",
        "from sklearn.linear_model import Perceptron\n",
        "#ignore warings -- there are lots of warnings regarding default values of Perceptron; which we accept\n",
        "import warnings\n",
        "warnings.filterwarnings(\"ignore\")\n",
        "\n",
        "perc = Perceptron( )\n",
        "perc.fit(train_data_normalized,train_sln)\n",
        "perc_predictions = perc.predict(test_data_normalized)\n",
        "\n",
        "#output accuracy\n",
        "print(\"Perceptron accuracy:\", metrics.accuracy_score(test_sln, perc_predictions))\n",
        "import itertools\n",
        "\n",
        "cm=metrics.confusion_matrix(test_sln,perc_predictions)\n",
        "plt.imshow(cm, interpolation='nearest',cmap=plt.cm.Blues)\n",
        "plt.title('Perceptron Conf Matrix')\n",
        "plt.colorbar()\n",
        "plt.xticks([0,1], perc.classes_,rotation=45)\n",
        "plt.yticks([0,1], perc.classes_)\n",
        "thresh = cm.max() / 2.\n",
        "for i, j in itertools.product(range(cm.shape[0]), range(cm.shape[1])):\n",
        "        plt.text(j, i, format(cm[i, j], '.2f'),\n",
        "                horizontalalignment=\"center\",\n",
        "                color=\"white\" if cm[i, j] > thresh else \"black\")\n",
        "plt.ylabel('True label')\n",
        "plt.xlabel('Predicted label')\n",
        "print()\n",
        "\n",
        "\n"
      ],
      "metadata": {
        "colab": {
          "base_uri": "https://localhost:8080/",
          "height": 333
        },
        "id": "OLmCo8QGs9GQ",
        "outputId": "b077fce5-cc68-4ea1-df23-f90aa51422c8"
      },
      "execution_count": 73,
      "outputs": [
        {
          "output_type": "stream",
          "name": "stdout",
          "text": [
            "Perceptron accuracy: 0.6977152899824253\n",
            "\n"
          ]
        },
        {
          "output_type": "display_data",
          "data": {
            "text/plain": [
              "<Figure size 432x288 with 2 Axes>"
            ],
            "image/png": "[encoded data removed]"
          },
          "metadata": {
            "needs_background": "light"
          }
        }
      ]
    },
    {
      "cell_type": "code",
      "source": [
        "from sklearn.linear_model import SGDClassifier\n",
        "sgd = SGDClassifier(early_stopping= True)\n",
        "sgd.fit(train_data_normalized,train_sln)\n",
        "SGD_predictions = sgd.predict(test_data_normalized)\n",
        "\n",
        "cm=metrics.confusion_matrix(test_sln,SGD_predictions)\n",
        "plt.imshow(cm, interpolation='nearest',cmap=plt.cm.Blues)\n",
        "plt.title('SGD Conf Matrix')\n",
        "plt.colorbar()\n",
        "plt.xticks([0,1], perc.classes_,rotation=45)\n",
        "plt.yticks([0,1], perc.classes_)\n",
        "thresh = cm.max() / 2.\n",
        "for i, j in itertools.product(range(cm.shape[0]), range(cm.shape[1])):\n",
        "        plt.text(j, i, format(cm[i, j], '.2f'),\n",
        "                horizontalalignment=\"center\",\n",
        "                color=\"white\" if cm[i, j] > thresh else \"black\")\n",
        "plt.ylabel('True label')\n",
        "plt.xlabel('Predicted label')\n",
        "print(print(\"SGD accuracy:\", metrics.accuracy_score(test_sln, SGD_predictions)))"
      ],
      "metadata": {
        "colab": {
          "base_uri": "https://localhost:8080/",
          "height": 333
        },
        "id": "ueI-3sVOFMdi",
        "outputId": "d7ab397e-6916-4a5b-a98c-077624983e9b"
      },
      "execution_count": 67,
      "outputs": [
        {
          "output_type": "stream",
          "name": "stdout",
          "text": [
            "SGD accuracy: 0.7504393673110721\n",
            "None\n"
          ]
        },
        {
          "output_type": "display_data",
          "data": {
            "text/plain": [
              "<Figure size 432x288 with 2 Axes>"
            ],
            "image/png": "[encoded data removed]"
          },
          "metadata": {
            "needs_background": "light"
          }
        }
      ]
    },
    {
      "cell_type": "code",
      "source": [
        "#running PCA for best model\n",
        "from sklearn.decomposition import PCA\n",
        "\n",
        "extractor = PCA(n_components=3, whiten=True)\n",
        "#When fitting with PCA, you do not use the target column - this is an unsupervised learning algorithm\n",
        "extractor.fit(train_data_normalized)\n",
        "\n",
        "print('this is the variance/importance of each component')\n",
        "print(extractor.explained_variance_ratio_)\n",
        "\n",
        "train_transformed = extractor.transform(train_data_normalized)\n",
        "test_transformed = extractor.transform(test_data_normalized)"
      ],
      "metadata": {
        "colab": {
          "base_uri": "https://localhost:8080/"
        },
        "id": "epJN5DjEILpV",
        "outputId": "d34276bc-b1c5-444c-8ab6-bff5cfa1db25"
      },
      "execution_count": 78,
      "outputs": [
        {
          "output_type": "stream",
          "name": "stdout",
          "text": [
            "this is the variance/importance of each component\n",
            "[0.46577384 0.1281964  0.08480578]\n"
          ]
        }
      ]
    },
    {
      "cell_type": "code",
      "source": [
        "#Random Forest\n",
        "rf_vals = [5,7,9,11,13,15]\n",
        "R_forest_accuracies = []\n",
        "for n in rf_vals:\n",
        "    forest = RandomForestClassifier(random_state = 0, n_estimators=100, min_samples_leaf= n)\n",
        "    forest.fit(train_transformed, train_sln)\n",
        "    predictions = forest.predict(test_transformed)\n",
        "    current_accuracy = metrics.accuracy_score(test_sln ,predictions)\n",
        "    R_forest_accuracies.append(current_accuracy)\n",
        "    print(current_accuracy)\n",
        "\n",
        "plt.suptitle('Accuracy classifier Random Forest',fontsize=18)\n",
        "plt.xlabel('k')\n",
        "plt.ylabel('accuracy')\n",
        "plt.plot(rf_vals,R_forest_accuracies,'ro-',label='k-NN')\n",
        "plt.legend(loc='lower left', shadow=True)\n",
        "plt.axis([5,15,0.5,1])\n",
        "\n",
        "plt.show()"
      ],
      "metadata": {
        "colab": {
          "base_uri": "https://localhost:8080/",
          "height": 415
        },
        "id": "724Yhn0qIRDa",
        "outputId": "65f3b572-637e-443e-da9c-a51cfaa58343"
      },
      "execution_count": 79,
      "outputs": [
        {
          "output_type": "stream",
          "name": "stdout",
          "text": [
            "0.7258347978910369\n",
            "0.7240773286467487\n",
            "0.7293497363796133\n",
            "0.7363796133567663\n",
            "0.7311072056239016\n",
            "0.7363796133567663\n"
          ]
        },
        {
          "output_type": "display_data",
          "data": {
            "text/plain": [
              "<Figure size 432x288 with 1 Axes>"
            ],
            "image/png": "[encoded data removed]"
          },
          "metadata": {
            "needs_background": "light"
          }
        }
      ]
    },
    {
      "cell_type": "code",
      "source": [
        "clf2 = SVC()\n",
        "clf2.fit(train_transformed,train_sln)\n",
        "predictions2 = clf2.predict(test_transformed)\n",
        "print(\"accuracy:\", metrics.accuracy_score(test_sln, predictions2))\n",
        "\n",
        "cm=metrics.confusion_matrix(test_sln,predictions2)\n",
        "plt.imshow(cm, interpolation='nearest',cmap=plt.cm.Blues)\n",
        "plt.title('SVC Conf Matrix')\n",
        "plt.colorbar()\n",
        "plt.xticks([0,1], perc.classes_,rotation=45)\n",
        "plt.yticks([0,1], perc.classes_)\n",
        "thresh = cm.max() / 2.\n",
        "for i, j in itertools.product(range(cm.shape[0]), range(cm.shape[1])):\n",
        "        plt.text(j, i, format(cm[i, j], '.2f'),\n",
        "                horizontalalignment=\"center\",\n",
        "                color=\"white\" if cm[i, j] > thresh else \"black\")\n",
        "plt.ylabel('True label')\n",
        "plt.xlabel('Predicted label')\n",
        "plt.show()"
      ],
      "metadata": {
        "colab": {
          "base_uri": "https://localhost:8080/",
          "height": 315
        },
        "id": "zKt0cX5uJC5R",
        "outputId": "87527182-7fc9-47d2-da1a-9283c4bf33df"
      },
      "execution_count": 81,
      "outputs": [
        {
          "output_type": "stream",
          "name": "stdout",
          "text": [
            "accuracy: 0.7346221441124781\n"
          ]
        },
        {
          "output_type": "display_data",
          "data": {
            "text/plain": [
              "<Figure size 432x288 with 2 Axes>"
            ],
            "image/png": "[encoded data removed]"
          },
          "metadata": {
            "needs_background": "light"
          }
        }
      ]
    },
    {
      "cell_type": "markdown",
      "source": [
        "#4. Analysis\n",
        "\n",
        "What did you discover? What insights/recommendations do you have? What did you find that was interesting? Which model was your best model, which models didn't work well? Why do you think this is? In general, I want a discussion of your experiment, the results, and what they mean."
      ],
      "metadata": {
        "id": "2Qu9bYPLmiv_"
      }
    },
    {
      "cell_type": "markdown",
      "source": [
        "For this project I used many of the classifying models we used in class to find out which model would be the best for predicting. I used K-nn, W-knn, Support Vectors, Stochastic Gradient Descent, Perceptron, and Random Forests. In running these models, Support vector and Random forests proved to be the best models but by only a small margin. One thing I found interesting throughout this experiment is that no matter the model, the accuracy pretty much stayed the same within the 70% - 75% range. Even when running the Principal Component Analysis the SVC and Random Forests remained almost the same but actually decreased in performance. I think the reason the models performed rather poorly and similarly is because even though a player's performance largely contributes to his longevity in the NBA, there are a lot of other reasons that can affect this. For example, teams needs for their player personnel along with who else is on that specific team can affect longevity. Also injuries and off the court issues can also come into play. Along with that, style of play has a big effect on the effectiveness of a certain player. In the end, I've come to realize that there are other factors that contribute to how long a player stays in the league besides just performance."
      ],
      "metadata": {
        "id": "k17sKBZUmqIH"
      }
    },
    {
      "cell_type": "markdown",
      "source": [
        "# 5. Bumps in the Road\n",
        "What challenges did you encounter? How did you overcome these challenges?"
      ],
      "metadata": {
        "id": "TemAuKxlm6dQ"
      }
    },
    {
      "cell_type": "markdown",
      "source": [
        "There were not many bumps in the road. At the beginning I was struggling to decide what attributes to use to test my model. This is because for most stats they had the total stat along with that stat per game. Or, for shooting stats specifically, the dataset had field goals made, field goals attempted, field goal percentage, and then field goals per game. I figured there was not much need to have four categories that are pretty much the same thing. I chose to use per game stats along with having games played was better than the totals because the totals for a player who got hurt and had to sit out wouldn't necessarily be reflective of their caliber. The last bump would be just trying to get past the boundary of a 75% accuracy. I tried tuning all the models and even changing the attributes used in the data but in the end it was just getting worse so I kept my data how it was originally. "
      ],
      "metadata": {
        "id": "zXEVEG9FnHgQ"
      }
    }
  ]
}